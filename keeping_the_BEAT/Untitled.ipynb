{
 "cells": [
  {
   "cell_type": "code",
   "execution_count": null,
   "id": "083befda",
   "metadata": {},
   "outputs": [],
   "source": [
    "        print(\"write results: ncomp, outmodel, modelsigma\")\n",
    "        print(ncomp)\n",
    "        print(outmodel)\n",
    "        print(modelsigma)\n",
    "        cat_file = os.path.join(self.basepath, f'{self.target_param[\"name\"]}_out', f'{self.target_param[\"name\"]}_'\n",
    "                                               f'{self.fit_instructions[\"line1\"][\"name\"]}.txt')\n",
    "        cat = pd.read_csv(cat_file, index_col='index')\n",
    "\n",
    "        use_col = cat.columns[2:len(outmodel[3 * self.prefit_num_lines:]) + 2].tolist()\n",
    "        for i, mod in enumerate(outmodel[3 * self.prefit_num_lines:]):\n",
    "            cat.loc[cat['filename'] == filename, use_col[i]] = mod\n",
    "            # cat.at[filename, use_col[i]] = mod\n",
    "\n",
    "        sigma_col = cat.columns[cat.columns.str.endswith('sigma')].tolist()\n",
    "        for i, sig in enumerate(modelsigma[3 * self.prefit_num_lines:]):\n",
    "            cat.loc[cat['filename'] == filename, sigma_col[i]] = sig\n",
    "\n",
    "        cat.loc[cat['filename'] == filename, 'ncomps'] = ncomp\n",
    "        cat.to_csv(cat_file, index_label='index')"
   ]
  },
  {
   "cell_type": "code",
   "execution_count": null,
   "id": "9fcad217",
   "metadata": {},
   "outputs": [],
   "source": [
    "import pandas as pd\n",
    "cat = pd.read_csv('pg_fits2/pg_out/pg_oiii.txt', index_col='index')"
   ]
  },
  {
   "cell_type": "code",
   "execution_count": null,
   "id": "1ae8393c",
   "metadata": {},
   "outputs": [],
   "source": [
    "prefit_num_lines = 3\n",
    "outmodel = ['pre_wave1', 'pre_width1', 'pre_flux1', \n",
    "            'pre_wave2', 'pre_width2', 'pre_flux2', \n",
    "            'pre_wave3', 'pre_width3', 'pre_flux3',\n",
    "            'wave1', 'width1', 'flux1a', 'flux1b', \n",
    "            'wave2', 'width2', 'flux2a', 'flux2b']"
   ]
  },
  {
   "cell_type": "code",
   "execution_count": null,
   "id": "9c17d874",
   "metadata": {},
   "outputs": [],
   "source": [
    "columns = ['filename', 'ncomp',\n",
    " 'pflux1', 'pflux2'\n",
    " 'wave_1',\n",
    " 'width_1',\n",
    " 'flux_1_A',\n",
    " 'flux_1_B',\n",
    " 'wave_2',\n",
    " 'width_2',\n",
    " 'flux_2_A',\n",
    " 'flux_2_B',\n",
    " 'wave_3',\n",
    " 'width_3']\n",
    "use_col = columns[2:len(outmodel[3 * prefit_num_lines:]) + 2]\n",
    "use_col"
   ]
  },
  {
   "cell_type": "code",
   "execution_count": null,
   "id": "02f79a67",
   "metadata": {},
   "outputs": [],
   "source": [
    "for i, mod in enumerate(range(prefit_num_lines)):\n",
    "    print( ,outmodel[(i*3)+2])\n",
    "for i, mod in enumerate(outmodel[3 * prefit_num_lines:]):\n",
    "    print(i)\n",
    "    print(use_col[i], mod)"
   ]
  },
  {
   "cell_type": "code",
   "execution_count": null,
   "id": "d66f59b2",
   "metadata": {},
   "outputs": [],
   "source": [
    "if prefit_num_lines:\n",
    "    for i in range(prefit_num_lines):\n",
    "        print(outmodel[(i*3)+2])"
   ]
  },
  {
   "cell_type": "code",
   "execution_count": null,
   "id": "f4c61ba9",
   "metadata": {},
   "outputs": [],
   "source": [
    "columns = ['filename', 'ncomp',\n",
    " 'pflux1', 'pflux2', 'pflux3',\n",
    " 'wave_1',\n",
    " 'width_1',\n",
    " 'flux_1_A',\n",
    " 'flux_1_B',\n",
    " 'wave_2',\n",
    " 'width_2',\n",
    " 'flux_2_A',\n",
    " 'flux_2_B',\n",
    " 'wave_3',\n",
    " 'width_3']\n",
    "\n",
    "outmodel = ['pre_wave1', 'pre_width1', 'pre_flux1', \n",
    "            'pre_wave2', 'pre_width2', 'pre_flux2', \n",
    "            'pre_wave3', 'pre_width3', 'pre_flux3',\n",
    "            'wave1', 'width1', 'flux1a', 'flux1b', \n",
    "            'wave2', 'width2', 'flux2a', 'flux2b']"
   ]
  },
  {
   "cell_type": "code",
   "execution_count": null,
   "id": "df1c6911",
   "metadata": {},
   "outputs": [],
   "source": [
    "# want:\n",
    "# print( pflux1, pre_flux1 ) = columns[2], outmodel[2]\n",
    "# print( pflux2, pre_flux2) = columns[3], outmodel[5]\n",
    "# print( pflux3, pre_flux3) = columns[4], outmodel[8]\n",
    "for i in range(prefit_num_lines):\n",
    "    print(columns[i+2] , outmodel[(i*3)+2])\n",
    "    \n",
    "    \n",
    "use_col = cat.columns[2:len(outmodel[3 * prefit_num_lines:]) + 2]    \n",
    "for i, mod in enumerate(outmodel[3 * prefit_num_lines:]):\n",
    "    print(i)\n",
    "    print(use_col[i], mod)"
   ]
  },
  {
   "cell_type": "code",
   "execution_count": null,
   "id": "129b9022",
   "metadata": {},
   "outputs": [],
   "source": [
    "prefit_col = cat.columns[cat.columns.str.startswith('prefit')].tolist()\n",
    "prefit_num_lines = 2"
   ]
  },
  {
   "cell_type": "code",
   "execution_count": null,
   "id": "044c1243",
   "metadata": {},
   "outputs": [],
   "source": [
    "outmodel = [5605.7304, 29.6579, 3.2555492286039666e-15, 5665.5117, 35.6489, 7.853374260971339e-14, 5779.234272546731, 6.1095542551837685, 3.39718965738255e-14, 3.9844333837015895e-15, 5782.858761877384, 2.277713221699937, 1.5800604227761828e-14, 1.389346310732992e-15]\n"
   ]
  },
  {
   "cell_type": "code",
   "execution_count": null,
   "id": "2f81ce85",
   "metadata": {},
   "outputs": [],
   "source": [
    "for i, prefit in enumerate(outmodel[2:prefit_num_lines+2]):\n",
    "    print(prefit_col[i]) \n",
    "    print(prefit)"
   ]
  },
  {
   "cell_type": "code",
   "execution_count": null,
   "id": "4ccafdc3",
   "metadata": {},
   "outputs": [],
   "source": []
  }
 ],
 "metadata": {
  "kernelspec": {
   "display_name": "Python 3 (ipykernel)",
   "language": "python",
   "name": "python3"
  },
  "language_info": {
   "codemirror_mode": {
    "name": "ipython",
    "version": 3
   },
   "file_extension": ".py",
   "mimetype": "text/x-python",
   "name": "python",
   "nbconvert_exporter": "python",
   "pygments_lexer": "ipython3",
   "version": "3.7.11"
  }
 },
 "nbformat": 4,
 "nbformat_minor": 5
}
