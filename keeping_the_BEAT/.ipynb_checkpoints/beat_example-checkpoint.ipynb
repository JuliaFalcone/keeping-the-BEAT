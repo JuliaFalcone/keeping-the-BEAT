{
 "cells": [
  {
   "cell_type": "markdown",
   "metadata": {},
   "source": [
    "You should be able to run this notebook with the test files included in the 'spectra' folder.  \n",
    "\n",
    "The following example is using ground based MUSE data so the wavelengths are air wavelengths. \n",
    "When running BEAT on your own data, you will need to define the wavelengths appropriate for your specific case."
   ]
  },
  {
   "cell_type": "code",
   "execution_count": 1,
   "metadata": {},
   "outputs": [],
   "source": [
    "import beat"
   ]
  },
  {
   "cell_type": "code",
   "execution_count": 2,
   "metadata": {},
   "outputs": [],
   "source": [
    "import numpy as np\n",
    "import os"
   ]
  },
  {
   "cell_type": "markdown",
   "metadata": {},
   "source": [
    "Define a function to load your files (load_file):\n",
    "\n",
    "Given a path, your function should return \"wave\", \"flux\", and \"noise\"\n",
    "\n",
    "For example if a file is named \"ic5063_150_155.txt\" and has 3 columns of data - wave, flux, and noise.\n",
    "\n",
    "Then use loadtxt or whatever you prefer to read in your data and name your columns accordingly. \n",
    "\n",
    "The following load_file works for the files included in the example folder."
   ]
  },
  {
   "cell_type": "code",
   "execution_count": null,
   "metadata": {},
   "outputs": [],
   "source": [
    "def load_file(filepath):\n",
    "    \"\"\"reads file and returns wave, flux, and noise arrays to pass to fitting code\"\"\"\n",
    "    wave, flux, noise = np.loadtxt(filepath, usecols=(0, 1, 2), unpack=True, delimiter=',')\n",
    "    return wave, flux, noise"
   ]
  },
  {
   "cell_type": "markdown",
   "metadata": {},
   "source": [
    "You'll need to define two different dictionaries, named here \"target_param\" and \"fit_instructions\".\n",
    "\n",
    "Target param will include:\n",
    "- name - your target name\n",
    "- red - redshift of your object\n",
    "- minwidth - minimum width that should be attempted to be fit\n",
    "- maxwidth - maximum width that should be attempted to be fit\n",
    "- start - the start of your data in array space (I'll change this soon, I swear lol)\n",
    "- end - the end of your data in array space (and this of course)\n",
    "- fluxsigma - value to multiply flux sigma by to keep or reject a fit \n",
    "- continuum1 - continuum area to the left of your line(s)\n",
    "- continuum2 - continuum area to the right of your line(s)\n",
    "- plotmin - x-axis minimum for output plots (wavelength)\n",
    "- plotmax - x-axis maximum for output plots\n",
    "- maxcomp - the maximum number of components that should be attempted per line\n",
    "- lnz - evidence value difference needed to accept a fit with more components. 5.0 is standard, a number larger than 5 will make it harder for a fit with more components to be chosen\n",
    "- cores - # processes for multiprocessing pool\n",
    "\n",
    "Fit instructions will include information about the lines you want to fit:\n",
    "- line1 - this should be your 'main' line that other lines would be locked with, if specified\n",
    "    - name - name of your line which will be used to name the output file\n",
    "    - wave - rest wavelength of line\n",
    "    - minwave - minimum wavelength that should be fit for this one line\n",
    "    - wave_range - (minwave, minwave + wave_range) will be the allowed wavelengths for the centroid of any component (right?)\n",
    "    - flux_free - is this line's flux locked in with any other line? For line 1 this will be False\n",
    "- line2 - this would be a second line that you would like to fit in tandem with line1. most parameters are identical as line1, except:\n",
    "    - flux_free will be False if this line is locked with another line\n",
    "    - locked_with - which line is this line locked with (\"line1\")\n",
    "    - flux_ratio - what is the flux ratio between the two lines [line1 = (flux_ratio)*line2]\n",
    "- more lines may be added ('line3', 'line4', etc) - remember to list any lines that will have flux_free = True before any lines that rely on that line \n",
    "    \n",
    "Call the 'Fit' class instance:\n",
    "- define an output directory, out_dir, where your data, plots, and text files will be saved\n",
    "- specify where your data files are, spec_dir, in this example the data files are in a folder named 'spectra'\n",
    "- pass your target parameters and fit instructions\n",
    "\n",
    "Finally call mp_handler to start the fits"
   ]
  },
  {
   "cell_type": "code",
   "execution_count": null,
   "metadata": {},
   "outputs": [],
   "source": [
    "\"\"\"def main():\n",
    "    target_param = {'name': 'ic5063', 'red': 0.01135, 'minwidth': 1.43, 'maxwidth': 33.83,\n",
    "                    'start': 10, 'end': 450, 'fluxsigma': 3, 'continuum1': (4962, 5000),\n",
    "                    'continuum2': (5087, 5125), 'plotmin': 4900, 'plotmax': 5150, 'maxcomp': 3, \n",
    "                    'lnz': 5.0, 'cores' : 2, 'cont_poly': 1} \n",
    "    \n",
    "   # prefit_instructions = {'minwave': 5609, 'wave_range': 10.0, 'minwidth': 3, 'maxwidth': 35}\n",
    "    # make this similar to fit instructions\n",
    "    # do we know flux flux, if we don't know it then we need free or scaling\n",
    "\n",
    "    fit_instructions = {\n",
    "        'line1': {'name': 'oiii', 'wave': 5006.84, 'minwave': 5054, 'wave_range': 20.0, 'flux_free': True},\n",
    "        'line2': {'name': 'oiii', 'wave': 4958.92, 'flux_free': False, 'locked_with': 'line1', 'flux_ratio': 3},\n",
    "        'line3': {'name': 'h-beta', 'wave': 4861.33, 'minwave': 4911, 'wave_range': 15.0, 'flux_free': True}\n",
    "        }\n",
    "    \n",
    "    # fixed_instructions = {'minwave': 5609, 'wave_range': 10.0, 'minwidth': 3, 'maxwidth': 35}\n",
    "    # make this similar to fit instructions\n",
    "    # do we know flux flux, if we don't know it then we need free or scaling\n",
    "\n",
    "\n",
    "\n",
    "    fit = beat.Fit(out_dir='ic5063/',\n",
    "                   spec_dir='spectra',\n",
    "                   load_file=load_file,\n",
    "                   fit_instructions=fit_instructions,\n",
    "                   target_param=target_param,\n",
    "                   # broad_instructions=broad_instructions\n",
    "                   )\n",
    "    fit.mp_handler()\"\"\""
   ]
  },
  {
   "cell_type": "markdown",
   "metadata": {},
   "source": [
    "# The following cell is an example using the provided example spectra files"
   ]
  },
  {
   "cell_type": "code",
   "execution_count": null,
   "metadata": {},
   "outputs": [],
   "source": [
    "def main():\n",
    "    target_param = {'name': 'ic5063', 'red': 0.01135, 'minwidth': 1.43, 'maxwidth': 33.83,\n",
    "                    'start': 10, 'end': 450, 'fluxsigma': 3, 'plotmin': 4900, 'plotmax': 5150, \n",
    "                    'maxcomp': 3, 'lnz': 5.0, 'cores' : 2}\n",
    "    \n",
    "    cont_instructions = {'form': 'model', 'cont_poly':1, 'continuum1': (4962, 5000), 'continuum2': (5087, 5125)}\n",
    "    #continuum from file\n",
    "    # cont_instructions = {‘form’: file, ‘filename’ = ‘continuum.txt’}\n",
    "    \n",
    "    #known flux values\n",
    "    # this is just an example of how prefit_instructions would look if flux was known\n",
    "    #prefit_instructions = {'flux': 'known'\n",
    "    #                       ‘comp1’: {‘name’:‘broad1’, ‘cen’: 4830, ‘width’ = 20, ‘flux_free’= false, ‘flux’ = 1e-15},\n",
    "    #                       ‘comp2’: {‘name’:‘broad2’, ‘cen’: 4382, ‘width’ = 23, ‘flux_free’= false, ‘flux’ = 1e-14}\n",
    "    #                      }\n",
    "    \n",
    "    #unknown flux values\n",
    "    # this is just an example of how prefit_instructions would look\n",
    "    \"\"\"prefit_instructions = {'flux':'unknown',\n",
    "                           'comp1': {'name':'broad1', 'cen': 4830, 'width': 20, 'flux_free': True},\n",
    "                           'comp2': {'name':'broad2', 'cen': 4382, 'width': 23, 'flux_free': False, \n",
    "                                     'locked_with': 'comp1', 'flux_ratio': 2.1}\"\"\"\n",
    "                          }\n",
    "    fit_instructions = {\n",
    "        'line1': {'name': 'oiii', 'wave': 5006.84, 'minwave': 5054, 'wave_range': 20.0, 'flux_free': True},\n",
    "        'line2': {'name': 'oiii', 'wave': 4958.92, 'flux_free': False, 'locked_with': 'line1', 'flux_ratio': 3},\n",
    "        'line3': {'name': 'h-beta', 'wave': 4861.33, 'minwave': 4911, 'wave_range': 15.0, 'flux_free': True}\n",
    "        }\n",
    "\n",
    "    fit = beat.Fit(out_dir='ic5063/',\n",
    "                   spec_dir='spectra',\n",
    "                   load_file=load_file,\n",
    "                   target_param=target_param,\n",
    "                   cont_instructions=cont_instructions,\n",
    "                   fit_instructions=fit_instructions,\n",
    "                   # prefit_instructions=prefit_instructions\n",
    "                   )\n",
    "    fit.mp_handler()"
   ]
  },
  {
   "cell_type": "code",
   "execution_count": null,
   "metadata": {},
   "outputs": [],
   "source": [
    "main()"
   ]
  },
  {
   "cell_type": "markdown",
   "metadata": {},
   "source": [
    "call main() or whatever function you put your dictionaries and fit call\n",
    "\n",
    "try stopping and restarting the fits"
   ]
  },
  {
   "cell_type": "markdown",
   "metadata": {},
   "source": [
    "# The following cell is an example using the prefit_instructions"
   ]
  },
  {
   "cell_type": "code",
   "execution_count": 3,
   "metadata": {},
   "outputs": [],
   "source": [
    "def load_file(filepath):\n",
    "    \"\"\"reads file and returns wave, flux, and noise arrays to pass to fitting code\"\"\"\n",
    "    wave, flux, noise = np.loadtxt(filepath, usecols=(0, 1, 2), unpack=True)\n",
    "    return wave, flux, noise"
   ]
  },
  {
   "cell_type": "code",
   "execution_count": 4,
   "metadata": {},
   "outputs": [],
   "source": [
    "def main():\n",
    "    target_param = {'name': 'pg', 'red': 0.15434, 'minwidth': 1.43, 'maxwidth': 33.83,\n",
    "                    'start': 90, 'end': 1110, 'fluxsigma': 3, 'plotmin': 5450, 'plotmax': 5960, 'maxcomp': 3, \n",
    "                    'lnz': 5.0, 'cores' : 1} \n",
    "    cont_instructions = {'form': 'model', 'cont_poly':1, 'continuum1': (5455, 5515), 'continuum2': (5830, 5890)}\n",
    "    \n",
    "    prefit_instructions = {'flux': 'unknown',\n",
    "                           'comp1': {'name':'broad1', 'cen': 5620, 'width': 45, 'flux_free': True}}\n",
    "    fit_instructions = {\n",
    "    'line1': {'name': 'oiii', 'wave': 5008.239, 'minwave': 5763, 'wave_range': 40.0, 'flux_free': True},\n",
    "    'line2': {'name': 'oiii', 'wave': 4960.295, 'flux_free': False, 'locked_with': 'line1', 'flux_ratio': 3},\n",
    "    'line3': {'name': 'h-beta', 'wave': 4861.33, 'minwave': 5589, 'wave_range': 40.0, 'flux_free': True}\n",
    "    }\n",
    "    fit = beat.Fit(out_dir='pg/',\n",
    "                   spec_dir='spectra_pg/',\n",
    "                   load_file=load_file,\n",
    "                   target_param=target_param,\n",
    "                   cont_instructions=cont_instructions,\n",
    "                   fit_instructions=fit_instructions,\n",
    "                   prefit_instructions=prefit_instructions\n",
    "                   )\n",
    "    fit.mp_handler()"
   ]
  },
  {
   "cell_type": "code",
   "execution_count": 5,
   "metadata": {
    "scrolled": true
   },
   "outputs": [
    {
     "name": "stdout",
     "output_type": "stream",
     "text": [
      "remaining to fit: 1\n",
      "PG_1307+085_combined fitting prefit component\n",
      "Fitting PG_1307+085_combined\n",
      "Min Y: 1.11e-15\n",
      "Max Y: 5.93e-15\n",
      "PG_1307+085_combined: trying 1 component(s)\n",
      "PG_1307+085_combined: trying 2 component(s)\n",
      "PG_1307+085_combined: trying 3 component(s)\n",
      "PG_1307+085_combined fit with 2 components\n",
      "Average Continuum = 1.76e-15\n",
      "Standard deviation = 7.7112e-17\n"
     ]
    }
   ],
   "source": [
    "main()"
   ]
  },
  {
   "cell_type": "code",
   "execution_count": null,
   "metadata": {},
   "outputs": [],
   "source": []
  }
 ],
 "metadata": {
  "kernelspec": {
   "display_name": "Python 3 (ipykernel)",
   "language": "python",
   "name": "python3"
  },
  "language_info": {
   "codemirror_mode": {
    "name": "ipython",
    "version": 3
   },
   "file_extension": ".py",
   "mimetype": "text/x-python",
   "name": "python",
   "nbconvert_exporter": "python",
   "pygments_lexer": "ipython3",
   "version": "3.7.11"
  }
 },
 "nbformat": 4,
 "nbformat_minor": 2
}
