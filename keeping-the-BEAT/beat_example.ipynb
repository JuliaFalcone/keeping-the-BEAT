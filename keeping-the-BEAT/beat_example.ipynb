{
 "cells": [
  {
   "cell_type": "markdown",
   "metadata": {},
   "source": [
    "You should be able to run this notebook with the test files included in the zipped file. You will need to redefine your out_dir and spectra paths before actually running the fits for yourself. "
   ]
  },
  {
   "cell_type": "code",
   "execution_count": 1,
   "metadata": {},
   "outputs": [],
   "source": [
    "import beat"
   ]
  },
  {
   "cell_type": "code",
   "execution_count": 2,
   "metadata": {},
   "outputs": [],
   "source": [
    "import numpy as np\n",
    "import os"
   ]
  },
  {
   "cell_type": "markdown",
   "metadata": {},
   "source": [
    "The user should define their own function to load their files\n",
    "\n",
    "Given a path, your function should return \"row\", \"column\", \"wave\", \"flux\", and \"noise\"\n",
    "\n",
    "For example if a file is named \"ic5063_150_155.txt\" and has 3 columns of data - wave, flux, and noise.\n",
    "\n",
    "Then you would want to pull 150 and 155 out of the file name as your row and column.\n",
    "\n",
    "And then use loadtxt or whatever you prefer to read in your data and name your columns accordingly. \n",
    "\n",
    "The following load_file works for the files included in the example folder."
   ]
  },
  {
   "cell_type": "code",
   "execution_count": 3,
   "metadata": {},
   "outputs": [],
   "source": [
    "def load_file(filepath):\n",
    "    \"\"\"returns row and column of spaxel along with wave, flux, and noise arrays to pass to fitting code\"\"\"\n",
    "    path, infile = os.path.split(filepath)\n",
    "    infilebase = infile.split('.')[0]\n",
    "    column = infilebase.split('_')[1]  # spaxel column coordinate (x)\n",
    "    row = infilebase.split('_')[2]\n",
    "    wave, flux, noise = np.loadtxt(filepath, usecols=(0, 1, 2), unpack=True, delimiter=',')\n",
    "    return row, column, wave, flux, noise"
   ]
  },
  {
   "cell_type": "markdown",
   "metadata": {},
   "source": [
    "You'll need to define two different dictionaries, named here \"target_param\" and \"fit_instructions\".\n",
    "\n",
    "Target param will include:\n",
    "- name - your target name\n",
    "- red - redshift of your object\n",
    "- minwidth - minimum width that should be attempted to be fit\n",
    "- maxwidth - maximum width that should be attempted to be fit\n",
    "- start - the start of your data in array space (I'll change this soon, I swear lol)\n",
    "- end - the end of your data in array space (and this of course)\n",
    "- fluxsigma - value to multiply flux sigma by to keep or reject a fit \n",
    "- continuum1 - continuum area to the left of your line(s)\n",
    "- continuum2 - continuum area to the right of your line(s)\n",
    "- plotmin - x-axis minimum for output plots (wavelength)\n",
    "- plotmax - x-axis maximum for output plots\n",
    "- maxcomp - the maximum number of components that should be attempted per line\n",
    "- lnz - evidence value difference needed to accept a fit with more components. 5.0 is standard, a number larger than 5 will make it harder for a fit with more components to be chosen\n",
    "- cores - # processes for multiprocessing pool\n",
    "\n",
    "Fit instructions will include information about the lines you want to fit:\n",
    "- line1 - this should be your 'main' line that other lines would be locked with, if specified\n",
    "    - name - name of your line which will be used to name the output file\n",
    "    - wave - rest wavelength of line\n",
    "    - minwave - minimum wavelength that should be fit for this one line\n",
    "    - wave_range - (minwave, minwave + wave_range) will be the allowed wavelengths for the centroid of any component (right?)\n",
    "    - flux_free - is this line's flux locked in with any other line? For line 1 this will be False\n",
    "- line2 - this would be a second line that you would like to fit in tandem with line1. most parameters are identical as line1, except:\n",
    "    - flux_free will be False if this line is locked with another line\n",
    "    - locked_with - which line is this line locked with (\"line1\")\n",
    "    - flux_ratio - what is the flux ratio between the two lines [line1 = (flux_ratio)*line2]\n",
    "- more lines may be added ('line3', 'line4', etc) - remember to list any lines that will have flux_free = True before any lines that rely on that line \n",
    "    \n",
    "Call the 'Fit' class instance - define an output directory, specify where your data files are, pass your target parameters and fit instructions. \n",
    "\n",
    "Finally call mp_handler to start the fits"
   ]
  },
  {
   "cell_type": "code",
   "execution_count": 4,
   "metadata": {},
   "outputs": [],
   "source": [
    "def main():\n",
    "    target_param = {'name': 'ic5063', 'red': 0.01135, 'minwidth': 1.43, 'maxwidth': 33.83,\n",
    "                    'start': 10, 'end': 450, 'fluxsigma': 3, 'continuum1': (4962, 5000),\n",
    "                    'continuum2': (5087, 5125), 'plotmin': 4900, 'plotmax': 5150, 'maxcomp': 3, \n",
    "                    'lnz': 5.0, 'cores' : 2} \n",
    "\n",
    "    fit_instructions = {\n",
    "        'line1': {'name': 'oiii', 'wave': 5006.84, 'minwave': 5054, 'wave_range': 20.0, 'flux_free': True},\n",
    "        'line2': {'name': 'oiii', 'wave': 4958.92, 'flux_free': False, 'locked_with': 'line1', 'flux_ratio': 3}\n",
    "        }\n",
    "\n",
    "\n",
    "    fit = beat.Fit(out_dir='ic5063/',\n",
    "                   spec_dir='spectra',\n",
    "                   load_file=load_file,\n",
    "                   fit_instructions=fit_instructions,\n",
    "                   target_param=target_param\n",
    "                   )\n",
    "    fit.mp_handler()"
   ]
  },
  {
   "cell_type": "markdown",
   "metadata": {},
   "source": [
    "call main() or whatever function you put your dictionaries and fit call\n",
    "\n",
    "try stopping and restarting the fits"
   ]
  },
  {
   "cell_type": "code",
   "execution_count": 5,
   "metadata": {
    "scrolled": true
   },
   "outputs": [
    {
     "name": "stdout",
     "output_type": "stream",
     "text": [
      "fil:ic5063_128_131.txt\n",
      "infilebase:ic5063_128_131\n",
      "fil:ic5063_144_149.txt\n",
      "infilebase:ic5063_144_149\n",
      "fil:ic5063_150_149.txt\n",
      "infilebase:ic5063_150_149\n",
      "fil:ic5063_150_150.txt\n",
      "infilebase:ic5063_150_150\n",
      "fil:ic5063_150_151.txt\n",
      "infilebase:ic5063_150_151\n",
      "fil:ic5063_150_152.txt\n",
      "infilebase:ic5063_150_152\n",
      "fil:ic5063_150_153.txt\n",
      "infilebase:ic5063_150_153\n",
      "fil:ic5063_150_154.txt\n",
      "infilebase:ic5063_150_154\n",
      "fil:ic5063_150_155.txt\n",
      "infilebase:ic5063_150_155\n",
      "fil:ic5063_150_156.txt\n",
      "infilebase:ic5063_150_156\n",
      "fil:ic5063_150_157.txt\n",
      "infilebase:ic5063_150_157\n",
      "fil:ic5063_151_148.txt\n",
      "infilebase:ic5063_151_148\n",
      "fil:ic5063_151_149.txt\n",
      "infilebase:ic5063_151_149\n",
      "fil:ic5063_151_150.txt\n",
      "infilebase:ic5063_151_150\n",
      "fil:ic5063_151_151.txt\n",
      "infilebase:ic5063_151_151\n",
      "fil:ic5063_151_152.txt\n",
      "infilebase:ic5063_151_152\n",
      "fil:ic5063_151_153.txt\n",
      "infilebase:ic5063_151_153\n",
      "fil:ic5063_151_154.txt\n",
      "infilebase:ic5063_151_154\n",
      "fil:ic5063_151_155.txt\n",
      "infilebase:ic5063_151_155\n",
      "fil:ic5063_151_156.txt\n",
      "infilebase:ic5063_151_156\n",
      "fil:ic5063_152_147.txt\n",
      "infilebase:ic5063_152_147\n",
      "fil:ic5063_152_148.txt\n",
      "infilebase:ic5063_152_148\n",
      "fil:ic5063_152_149.txt\n",
      "infilebase:ic5063_152_149\n",
      "fil:ic5063_152_150.txt\n",
      "infilebase:ic5063_152_150\n",
      "fil:ic5063_152_151.txt\n",
      "infilebase:ic5063_152_151\n",
      "fil:ic5063_152_152.txt\n",
      "infilebase:ic5063_152_152\n",
      "fil:ic5063_152_153.txt\n",
      "infilebase:ic5063_152_153\n",
      "fil:ic5063_152_154.txt\n",
      "infilebase:ic5063_152_154\n",
      "fil:ic5063_152_155.txt\n",
      "infilebase:ic5063_152_155\n",
      "fil:ic5063_157_207.txt\n",
      "infilebase:ic5063_157_207\n",
      "fil:ic5063_205_193.txt\n",
      "infilebase:ic5063_205_193\n",
      "remaining to fit: 31\n",
      "Fitting Pixel: 150, 151\n",
      "Min Y: 2.63e-17\n",
      "Fitting Pixel: 128, 131\n",
      "Max Y: 6.64e-16\n",
      "Min Y: 6.55e-18\n",
      "Max Y: 9.14e-17\n",
      "Pixel: 128, 131 trying 1 component(s)\n",
      "Pixel: 150, 151 trying 1 component(s)\n",
      "Pixel: 150, 151 trying 2 component(s)\n",
      "Pixel: 128, 131 trying 2 component(s)\n"
     ]
    },
    {
     "name": "stderr",
     "output_type": "stream",
     "text": [
      "ERROR: Interrupt received: Terminating\n",
      "ERROR: Interrupt received: Terminating\n"
     ]
    },
    {
     "ename": "KeyboardInterrupt",
     "evalue": "",
     "output_type": "error",
     "traceback": [
      "\u001b[0;31m---------------------------------------------------------------------------\u001b[0m",
      "\u001b[0;31mKeyboardInterrupt\u001b[0m                         Traceback (most recent call last)",
      "\u001b[0;32m<ipython-input-5-263240bbee7e>\u001b[0m in \u001b[0;36m<module>\u001b[0;34m\u001b[0m\n\u001b[0;32m----> 1\u001b[0;31m \u001b[0mmain\u001b[0m\u001b[0;34m(\u001b[0m\u001b[0;34m)\u001b[0m\u001b[0;34m\u001b[0m\u001b[0;34m\u001b[0m\u001b[0m\n\u001b[0m",
      "\u001b[0;32m<ipython-input-4-5eeba6c2ea05>\u001b[0m in \u001b[0;36mmain\u001b[0;34m()\u001b[0m\n\u001b[1;32m     17\u001b[0m                    \u001b[0mtarget_param\u001b[0m\u001b[0;34m=\u001b[0m\u001b[0mtarget_param\u001b[0m\u001b[0;34m\u001b[0m\u001b[0;34m\u001b[0m\u001b[0m\n\u001b[1;32m     18\u001b[0m                    )\n\u001b[0;32m---> 19\u001b[0;31m     \u001b[0mfit\u001b[0m\u001b[0;34m.\u001b[0m\u001b[0mmp_handler\u001b[0m\u001b[0;34m(\u001b[0m\u001b[0;34m)\u001b[0m\u001b[0;34m\u001b[0m\u001b[0;34m\u001b[0m\u001b[0m\n\u001b[0m",
      "\u001b[0;32m~/keeping_the_BEAT/keeping-the-BEAT/beat.py\u001b[0m in \u001b[0;36mmp_handler\u001b[0;34m(self)\u001b[0m\n\u001b[1;32m    367\u001b[0m         \u001b[0mprint\u001b[0m\u001b[0;34m(\u001b[0m\u001b[0;34mf'remaining to fit: {len(unfit_pix)}'\u001b[0m\u001b[0;34m)\u001b[0m\u001b[0;34m\u001b[0m\u001b[0;34m\u001b[0m\u001b[0m\n\u001b[1;32m    368\u001b[0m         \u001b[0mpool\u001b[0m \u001b[0;34m=\u001b[0m \u001b[0mmp\u001b[0m\u001b[0;34m.\u001b[0m\u001b[0mPool\u001b[0m\u001b[0;34m(\u001b[0m\u001b[0mprocesses\u001b[0m\u001b[0;34m=\u001b[0m\u001b[0mself\u001b[0m\u001b[0;34m.\u001b[0m\u001b[0mtarget_param\u001b[0m\u001b[0;34m[\u001b[0m\u001b[0;34m\"cores\"\u001b[0m\u001b[0;34m]\u001b[0m\u001b[0;34m)\u001b[0m\u001b[0;34m\u001b[0m\u001b[0;34m\u001b[0m\u001b[0m\n\u001b[0;32m--> 369\u001b[0;31m         \u001b[0mpool\u001b[0m\u001b[0;34m.\u001b[0m\u001b[0mmap\u001b[0m\u001b[0;34m(\u001b[0m\u001b[0mself\u001b[0m\u001b[0;34m.\u001b[0m\u001b[0mmp_worker\u001b[0m\u001b[0;34m,\u001b[0m \u001b[0munfit_pix\u001b[0m\u001b[0;34m)\u001b[0m\u001b[0;34m\u001b[0m\u001b[0;34m\u001b[0m\u001b[0m\n\u001b[0m",
      "\u001b[0;32m~/miniconda3/envs/astroconda36/lib/python3.6/multiprocessing/pool.py\u001b[0m in \u001b[0;36mmap\u001b[0;34m(self, func, iterable, chunksize)\u001b[0m\n\u001b[1;32m    264\u001b[0m         \u001b[0;32min\u001b[0m \u001b[0ma\u001b[0m \u001b[0mlist\u001b[0m \u001b[0mthat\u001b[0m \u001b[0;32mis\u001b[0m \u001b[0mreturned\u001b[0m\u001b[0;34m.\u001b[0m\u001b[0;34m\u001b[0m\u001b[0;34m\u001b[0m\u001b[0m\n\u001b[1;32m    265\u001b[0m         '''\n\u001b[0;32m--> 266\u001b[0;31m         \u001b[0;32mreturn\u001b[0m \u001b[0mself\u001b[0m\u001b[0;34m.\u001b[0m\u001b[0m_map_async\u001b[0m\u001b[0;34m(\u001b[0m\u001b[0mfunc\u001b[0m\u001b[0;34m,\u001b[0m \u001b[0miterable\u001b[0m\u001b[0;34m,\u001b[0m \u001b[0mmapstar\u001b[0m\u001b[0;34m,\u001b[0m \u001b[0mchunksize\u001b[0m\u001b[0;34m)\u001b[0m\u001b[0;34m.\u001b[0m\u001b[0mget\u001b[0m\u001b[0;34m(\u001b[0m\u001b[0;34m)\u001b[0m\u001b[0;34m\u001b[0m\u001b[0;34m\u001b[0m\u001b[0m\n\u001b[0m\u001b[1;32m    267\u001b[0m \u001b[0;34m\u001b[0m\u001b[0m\n\u001b[1;32m    268\u001b[0m     \u001b[0;32mdef\u001b[0m \u001b[0mstarmap\u001b[0m\u001b[0;34m(\u001b[0m\u001b[0mself\u001b[0m\u001b[0;34m,\u001b[0m \u001b[0mfunc\u001b[0m\u001b[0;34m,\u001b[0m \u001b[0miterable\u001b[0m\u001b[0;34m,\u001b[0m \u001b[0mchunksize\u001b[0m\u001b[0;34m=\u001b[0m\u001b[0;32mNone\u001b[0m\u001b[0;34m)\u001b[0m\u001b[0;34m:\u001b[0m\u001b[0;34m\u001b[0m\u001b[0;34m\u001b[0m\u001b[0m\n",
      "\u001b[0;32m~/miniconda3/envs/astroconda36/lib/python3.6/multiprocessing/pool.py\u001b[0m in \u001b[0;36mget\u001b[0;34m(self, timeout)\u001b[0m\n\u001b[1;32m    636\u001b[0m \u001b[0;34m\u001b[0m\u001b[0m\n\u001b[1;32m    637\u001b[0m     \u001b[0;32mdef\u001b[0m \u001b[0mget\u001b[0m\u001b[0;34m(\u001b[0m\u001b[0mself\u001b[0m\u001b[0;34m,\u001b[0m \u001b[0mtimeout\u001b[0m\u001b[0;34m=\u001b[0m\u001b[0;32mNone\u001b[0m\u001b[0;34m)\u001b[0m\u001b[0;34m:\u001b[0m\u001b[0;34m\u001b[0m\u001b[0;34m\u001b[0m\u001b[0m\n\u001b[0;32m--> 638\u001b[0;31m         \u001b[0mself\u001b[0m\u001b[0;34m.\u001b[0m\u001b[0mwait\u001b[0m\u001b[0;34m(\u001b[0m\u001b[0mtimeout\u001b[0m\u001b[0;34m)\u001b[0m\u001b[0;34m\u001b[0m\u001b[0;34m\u001b[0m\u001b[0m\n\u001b[0m\u001b[1;32m    639\u001b[0m         \u001b[0;32mif\u001b[0m \u001b[0;32mnot\u001b[0m \u001b[0mself\u001b[0m\u001b[0;34m.\u001b[0m\u001b[0mready\u001b[0m\u001b[0;34m(\u001b[0m\u001b[0;34m)\u001b[0m\u001b[0;34m:\u001b[0m\u001b[0;34m\u001b[0m\u001b[0;34m\u001b[0m\u001b[0m\n\u001b[1;32m    640\u001b[0m             \u001b[0;32mraise\u001b[0m \u001b[0mTimeoutError\u001b[0m\u001b[0;34m\u001b[0m\u001b[0;34m\u001b[0m\u001b[0m\n",
      "\u001b[0;32m~/miniconda3/envs/astroconda36/lib/python3.6/multiprocessing/pool.py\u001b[0m in \u001b[0;36mwait\u001b[0;34m(self, timeout)\u001b[0m\n\u001b[1;32m    633\u001b[0m \u001b[0;34m\u001b[0m\u001b[0m\n\u001b[1;32m    634\u001b[0m     \u001b[0;32mdef\u001b[0m \u001b[0mwait\u001b[0m\u001b[0;34m(\u001b[0m\u001b[0mself\u001b[0m\u001b[0;34m,\u001b[0m \u001b[0mtimeout\u001b[0m\u001b[0;34m=\u001b[0m\u001b[0;32mNone\u001b[0m\u001b[0;34m)\u001b[0m\u001b[0;34m:\u001b[0m\u001b[0;34m\u001b[0m\u001b[0;34m\u001b[0m\u001b[0m\n\u001b[0;32m--> 635\u001b[0;31m         \u001b[0mself\u001b[0m\u001b[0;34m.\u001b[0m\u001b[0m_event\u001b[0m\u001b[0;34m.\u001b[0m\u001b[0mwait\u001b[0m\u001b[0;34m(\u001b[0m\u001b[0mtimeout\u001b[0m\u001b[0;34m)\u001b[0m\u001b[0;34m\u001b[0m\u001b[0;34m\u001b[0m\u001b[0m\n\u001b[0m\u001b[1;32m    636\u001b[0m \u001b[0;34m\u001b[0m\u001b[0m\n\u001b[1;32m    637\u001b[0m     \u001b[0;32mdef\u001b[0m \u001b[0mget\u001b[0m\u001b[0;34m(\u001b[0m\u001b[0mself\u001b[0m\u001b[0;34m,\u001b[0m \u001b[0mtimeout\u001b[0m\u001b[0;34m=\u001b[0m\u001b[0;32mNone\u001b[0m\u001b[0;34m)\u001b[0m\u001b[0;34m:\u001b[0m\u001b[0;34m\u001b[0m\u001b[0;34m\u001b[0m\u001b[0m\n",
      "\u001b[0;32m~/miniconda3/envs/astroconda36/lib/python3.6/threading.py\u001b[0m in \u001b[0;36mwait\u001b[0;34m(self, timeout)\u001b[0m\n\u001b[1;32m    549\u001b[0m             \u001b[0msignaled\u001b[0m \u001b[0;34m=\u001b[0m \u001b[0mself\u001b[0m\u001b[0;34m.\u001b[0m\u001b[0m_flag\u001b[0m\u001b[0;34m\u001b[0m\u001b[0;34m\u001b[0m\u001b[0m\n\u001b[1;32m    550\u001b[0m             \u001b[0;32mif\u001b[0m \u001b[0;32mnot\u001b[0m \u001b[0msignaled\u001b[0m\u001b[0;34m:\u001b[0m\u001b[0;34m\u001b[0m\u001b[0;34m\u001b[0m\u001b[0m\n\u001b[0;32m--> 551\u001b[0;31m                 \u001b[0msignaled\u001b[0m \u001b[0;34m=\u001b[0m \u001b[0mself\u001b[0m\u001b[0;34m.\u001b[0m\u001b[0m_cond\u001b[0m\u001b[0;34m.\u001b[0m\u001b[0mwait\u001b[0m\u001b[0;34m(\u001b[0m\u001b[0mtimeout\u001b[0m\u001b[0;34m)\u001b[0m\u001b[0;34m\u001b[0m\u001b[0;34m\u001b[0m\u001b[0m\n\u001b[0m\u001b[1;32m    552\u001b[0m             \u001b[0;32mreturn\u001b[0m \u001b[0msignaled\u001b[0m\u001b[0;34m\u001b[0m\u001b[0;34m\u001b[0m\u001b[0m\n\u001b[1;32m    553\u001b[0m \u001b[0;34m\u001b[0m\u001b[0m\n",
      "\u001b[0;32m~/miniconda3/envs/astroconda36/lib/python3.6/threading.py\u001b[0m in \u001b[0;36mwait\u001b[0;34m(self, timeout)\u001b[0m\n\u001b[1;32m    293\u001b[0m         \u001b[0;32mtry\u001b[0m\u001b[0;34m:\u001b[0m    \u001b[0;31m# restore state no matter what (e.g., KeyboardInterrupt)\u001b[0m\u001b[0;34m\u001b[0m\u001b[0;34m\u001b[0m\u001b[0m\n\u001b[1;32m    294\u001b[0m             \u001b[0;32mif\u001b[0m \u001b[0mtimeout\u001b[0m \u001b[0;32mis\u001b[0m \u001b[0;32mNone\u001b[0m\u001b[0;34m:\u001b[0m\u001b[0;34m\u001b[0m\u001b[0;34m\u001b[0m\u001b[0m\n\u001b[0;32m--> 295\u001b[0;31m                 \u001b[0mwaiter\u001b[0m\u001b[0;34m.\u001b[0m\u001b[0macquire\u001b[0m\u001b[0;34m(\u001b[0m\u001b[0;34m)\u001b[0m\u001b[0;34m\u001b[0m\u001b[0;34m\u001b[0m\u001b[0m\n\u001b[0m\u001b[1;32m    296\u001b[0m                 \u001b[0mgotit\u001b[0m \u001b[0;34m=\u001b[0m \u001b[0;32mTrue\u001b[0m\u001b[0;34m\u001b[0m\u001b[0;34m\u001b[0m\u001b[0m\n\u001b[1;32m    297\u001b[0m             \u001b[0;32melse\u001b[0m\u001b[0;34m:\u001b[0m\u001b[0;34m\u001b[0m\u001b[0;34m\u001b[0m\u001b[0m\n",
      "\u001b[0;31mKeyboardInterrupt\u001b[0m: "
     ]
    }
   ],
   "source": [
    "main()"
   ]
  },
  {
   "cell_type": "code",
   "execution_count": null,
   "metadata": {},
   "outputs": [],
   "source": []
  }
 ],
 "metadata": {
  "kernelspec": {
   "display_name": "Python 3",
   "language": "python",
   "name": "python3"
  },
  "language_info": {
   "codemirror_mode": {
    "name": "ipython",
    "version": 3
   },
   "file_extension": ".py",
   "mimetype": "text/x-python",
   "name": "python",
   "nbconvert_exporter": "python",
   "pygments_lexer": "ipython3",
   "version": "3.6.8"
  }
 },
 "nbformat": 4,
 "nbformat_minor": 2
}
