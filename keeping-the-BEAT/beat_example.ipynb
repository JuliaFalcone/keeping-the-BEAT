{
 "cells": [
  {
   "cell_type": "markdown",
   "metadata": {},
   "source": [
    "You should be able to run this notebook with the test files included in the zipped file. You will need to redefine your out_dir and spectra paths before actually running the fits for yourself. "
   ]
  },
  {
   "cell_type": "code",
   "execution_count": null,
   "metadata": {},
   "outputs": [
    {
     "ename": "ModuleNotFoundError",
     "evalue": "No module named 'beat'",
     "traceback": [
      "\u001b[0;31m---------------------------------------------------------------------------\u001b[0m",
      "\u001b[0;31mModuleNotFoundError\u001b[0m                       Traceback (most recent call last)",
      "\u001b[0;32m<ipython-input-2-5344471331f7>\u001b[0m in \u001b[0;36m<module>\u001b[0;34m\u001b[0m\n\u001b[0;32m----> 1\u001b[0;31m \u001b[0;32mimport\u001b[0m \u001b[0mbeat\u001b[0m\u001b[0;34m\u001b[0m\u001b[0;34m\u001b[0m\u001b[0m\n\u001b[0m",
      "\u001b[0;31mModuleNotFoundError\u001b[0m: No module named 'beat'"
     ],
     "output_type": "error"
    }
   ],
   "source": [
    "import beat"
   ]
  },
  {
   "cell_type": "code",
   "execution_count": null,
   "metadata": {},
   "outputs": [],
   "source": [
    "import numpy as np\n",
    "import os"
   ]
  },
  {
   "cell_type": "markdown",
   "metadata": {},
   "source": [
    "The user should define their own function to load their files\n",
    "\n",
    "Given a path, your function should return \"wave\", \"flux\", and \"noise\"\n",
    "\n",
    "For example if a file is named \"ic5063_150_155.txt\" and has 3 columns of data - wave, flux, and noise.\n",
    "\n",
    "Then use loadtxt or whatever you prefer to read in your data and name your columns accordingly. \n",
    "\n",
    "The following load_file works for the files included in the example folder."
   ]
  },
  {
   "cell_type": "code",
   "execution_count": null,
   "metadata": {},
   "outputs": [],
   "source": [
    "def load_file(filepath):\n",
    "    \"\"\"reads file and returns wave, flux, and noise arrays to pass to fitting code\"\"\"\n",
    "    wave, flux, noise = np.loadtxt(filepath, usecols=(0, 1, 2), unpack=True, delimiter=',')\n",
    "    return row, column, wave, flux, noise"
   ]
  },
  {
   "cell_type": "markdown",
   "metadata": {},
   "source": [
    "You'll need to define two different dictionaries, named here \"target_param\" and \"fit_instructions\".\n",
    "\n",
    "Target param will include:\n",
    "- name - your target name\n",
    "- red - redshift of your object\n",
    "- minwidth - minimum width that should be attempted to be fit\n",
    "- maxwidth - maximum width that should be attempted to be fit\n",
    "- start - the start of your data in array space (I'll change this soon, I swear lol)\n",
    "- end - the end of your data in array space (and this of course)\n",
    "- fluxsigma - value to multiply flux sigma by to keep or reject a fit \n",
    "- continuum1 - continuum area to the left of your line(s)\n",
    "- continuum2 - continuum area to the right of your line(s)\n",
    "- plotmin - x-axis minimum for output plots (wavelength)\n",
    "- plotmax - x-axis maximum for output plots\n",
    "- maxcomp - the maximum number of components that should be attempted per line\n",
    "- lnz - evidence value difference needed to accept a fit with more components. 5.0 is standard, a number larger than 5 will make it harder for a fit with more components to be chosen\n",
    "- cores - # processes for multiprocessing pool\n",
    "\n",
    "Fit instructions will include information about the lines you want to fit:\n",
    "- line1 - this should be your 'main' line that other lines would be locked with, if specified\n",
    "    - name - name of your line which will be used to name the output file\n",
    "    - wave - rest wavelength of line\n",
    "    - minwave - minimum wavelength that should be fit for this one line\n",
    "    - wave_range - (minwave, minwave + wave_range) will be the allowed wavelengths for the centroid of any component (right?)\n",
    "    - flux_free - is this line's flux locked in with any other line? For line 1 this will be False\n",
    "- line2 - this would be a second line that you would like to fit in tandem with line1. most parameters are identical as line1, except:\n",
    "    - flux_free will be False if this line is locked with another line\n",
    "    - locked_with - which line is this line locked with (\"line1\")\n",
    "    - flux_ratio - what is the flux ratio between the two lines [line1 = (flux_ratio)*line2]\n",
    "- more lines may be added ('line3', 'line4', etc) - remember to list any lines that will have flux_free = True before any lines that rely on that line \n",
    "    \n",
    "Call the 'Fit' class instance - define an output directory, specify where your data files are, pass your target parameters and fit instructions. \n",
    "\n",
    "Finally call mp_handler to start the fits"
   ]
  },
  {
   "cell_type": "code",
   "execution_count": null,
   "metadata": {},
   "outputs": [],
   "source": [
    "def main():\n",
    "    target_param = {'name': 'ic5063', 'red': 0.01135, 'minwidth': 1.43, 'maxwidth': 33.83,\n",
    "                    'start': 10, 'end': 450, 'fluxsigma': 3, 'continuum1': (4962, 5000),\n",
    "                    'continuum2': (5087, 5125), 'plotmin': 4900, 'plotmax': 5150, 'maxcomp': 3, \n",
    "                    'lnz': 5.0, 'cores' : 2} \n",
    "\n",
    "    \"\"\"fit_instructions = {\n",
    "        'line1': {'name': 'oiii', 'wave': 5006.84, 'minwave': 5054, 'wave_range': 20.0, 'flux_free': True},\n",
    "        'line2': {'name': 'oiii', 'wave': 4958.92, 'flux_free': False, 'locked_with': 'line1', 'flux_ratio': 3}\n",
    "        }\"\"\"\n",
    "    fit_instructions = {\n",
    "        'line1': {'name': 'oiii', 'wave': 5006.84, 'minwave': 5054, 'wave_range': 20.0, 'flux_free': True},\n",
    "        'line2': {'name': 'oiii', 'wave': 4958.92, 'flux_free': False, 'locked_with': 'line1', 'flux_ratio': 3},\n",
    "        'line3': {'name': 'h-beta', 'wave': 4861.33, 'minwave': 4911, 'wave_range': 15.0, 'flux_free': True}\n",
    "        }\n",
    "\n",
    "\n",
    "    fit = beat.Fit(out_dir='ic5063/',\n",
    "                   spec_dir='spectra',\n",
    "                   load_file=load_file,\n",
    "                   fit_instructions=fit_instructions,\n",
    "                   target_param=target_param\n",
    "                   )\n",
    "    fit.mp_handler()"
   ]
  },
  {
   "cell_type": "markdown",
   "metadata": {},
   "source": [
    "call main() or whatever function you put your dictionaries and fit call\n",
    "\n",
    "try stopping and restarting the fits"
   ]
  },
  {
   "cell_type": "code",
   "execution_count": null,
   "metadata": {
    "scrolled": true
   },
   "outputs": [],
   "source": [
    "main()"
   ]
  },
  {
   "cell_type": "code",
   "execution_count": null,
   "metadata": {},
   "outputs": [],
   "source": []
  }
 ],
 "metadata": {
  "kernelspec": {
   "display_name": "Python 3",
   "language": "python",
   "name": "python3"
  },
  "language_info": {
   "codemirror_mode": {
    "name": "ipython",
    "version": 3
   },
   "file_extension": ".py",
   "mimetype": "text/x-python",
   "name": "python",
   "nbconvert_exporter": "python",
   "pygments_lexer": "ipython3",
   "version": "3.6.8"
  }
 },
 "nbformat": 4,
 "nbformat_minor": 2
}
